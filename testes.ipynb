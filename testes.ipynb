{
 "cells": [
  {
   "cell_type": "code",
   "execution_count": 15,
   "id": "99a477be",
   "metadata": {},
   "outputs": [],
   "source": [
    "import requests\n",
    "\n",
    "url = \"https://api.lyrics.ovh/v1/marilia mendonca/infiel\"\n",
    "response = requests.get(url)"
   ]
  },
  {
   "cell_type": "code",
   "execution_count": 16,
   "id": "6b2a1d9b",
   "metadata": {},
   "outputs": [
    {
     "name": "stdout",
     "output_type": "stream",
     "text": [
      "Isso não é uma disputa\n",
      "E eu não quero te provocar\n",
      "Descobri faz um ano e to te procurando pra dizer\n",
      "Hoje a farsa vai acabar\n",
      "Hoje não tem hora de ir embora\n",
      "\n",
      "Hoje, ele vai ficar\n",
      "\n",
      "No momento deve estar feliz\n",
      "\n",
      "E achando que ganhou\n",
      "\n",
      "Não perdi nada, acabei de me livrar\n",
      "\n",
      "\n",
      "\n",
      "Com certeza ele vai atrás\n",
      "\n",
      "Mas com outra intensão\n",
      "\n",
      "Tá sem casa, sem rumo\n",
      "\n",
      "E você é a única opção\n",
      "\n",
      "\n",
      "\n",
      "E agora será que aguenta\n",
      "\n",
      "A barra sozinha\n",
      "\n",
      "Se sabia de tudo\n",
      "\n",
      "Se vira a culpa não é minha\n",
      "\n",
      "\n",
      "\n",
      "O seu premio que não vale nada\n",
      "\n",
      "Estou te entregando\n",
      "\n",
      "Pus as malas lá fora e ele ainda saiu chorando\n",
      "\n",
      "Essa competição de amor só serviu pra me machucar\n",
      "\n",
      "Tá na sua mão\n",
      "\n",
      "Você agora vai cuidar, de um traidor\n",
      "\n",
      "Me faça esse favor\n",
      "\n",
      "\n",
      "\n",
      "Iêê\n",
      "\n",
      "Infiel\n",
      "\n",
      "Eu quero ver você morar num motel\n",
      "\n",
      "Estou te expulsando do meu coração\n",
      "\n",
      "Assuma as consequências dessa traição\n",
      "\n",
      "\n",
      "\n",
      "Iêê\n",
      "\n",
      "Infiel\n",
      "\n",
      "Agora ela vai fazer o meu papel\n",
      "\n",
      "Daqui um tempo você vai se acostumar\n",
      "\n",
      "E ai vai ser a ela que vai enganar\n",
      "\n",
      "\n",
      "\n",
      "Você não vai mudar...\n"
     ]
    }
   ],
   "source": [
    "print(response.json()['lyrics'])"
   ]
  }
 ],
 "metadata": {
  "kernelspec": {
   "display_name": "Python 3",
   "language": "python",
   "name": "python3"
  },
  "language_info": {
   "codemirror_mode": {
    "name": "ipython",
    "version": 3
   },
   "file_extension": ".py",
   "mimetype": "text/x-python",
   "name": "python",
   "nbconvert_exporter": "python",
   "pygments_lexer": "ipython3",
   "version": "3.13.0"
  }
 },
 "nbformat": 4,
 "nbformat_minor": 5
}
